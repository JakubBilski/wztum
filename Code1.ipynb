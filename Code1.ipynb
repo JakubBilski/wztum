{
 "cells": [
  {
   "cell_type": "markdown",
   "metadata": {},
   "source": [
    "# Training Multilayer Perceptron and a simple CNN"
   ]
  },
  {
   "cell_type": "code",
   "execution_count": 10,
   "metadata": {},
   "outputs": [],
   "source": [
    "import matplotlib.pyplot as plt\n",
    "import numpy as np\n",
    "\n",
    "import torch\n",
    "import torchvision\n",
    "import torchvision.transforms as transforms\n",
    "\n",
    "import torch.nn as nn\n",
    "import torch.nn.functional as F\n",
    "import torch.optim as optim"
   ]
  },
  {
   "cell_type": "markdown",
   "metadata": {},
   "source": [
    "### Use GPU if available"
   ]
  },
  {
   "cell_type": "code",
   "execution_count": null,
   "metadata": {},
   "outputs": [],
   "source": [
    "device = torch.device('cuda:0' if torch.cuda.is_available() else 'cpu')\n",
    "print(device)"
   ]
  },
  {
   "cell_type": "markdown",
   "metadata": {},
   "source": [
    "### Pytorch transformations for loading the data"
   ]
  },
  {
   "cell_type": "code",
   "execution_count": null,
   "metadata": {},
   "outputs": [],
   "source": [
    "INPUT_RESOLUTION = 32\n",
    "\n",
    "input_transform = transforms.Compose([\n",
    "    transforms.ToTensor(),\n",
    "    transforms.Resize((INPUT_RESOLUTION, INPUT_RESOLUTION)),\n",
    "    transforms.Normalize((0.5,), (0.5,))\n",
    "])\n",
    "dataset = torchvision.datasets.EuroSAT(\n",
    "    './data',\n",
    "    download=True,\n",
    "    transform=input_transform\n",
    ")\n",
    "valset = torchvision.datasets.EuroSAT(\n",
    "    './data',\n",
    "    download=True,\n",
    "    transform=input_transform\n",
    ")\n",
    "trainset, valset = torch.utils.data.random_split(dataset, [0.8, 0.2])\n",
    "trainloader = torch.utils.data.DataLoader(\n",
    "    trainset,\n",
    "    batch_size=16,\n",
    "    num_workers=2,\n",
    "    shuffle=True\n",
    ")\n",
    "valloader = torch.utils.data.DataLoader(\n",
    "    valset,\n",
    "    batch_size=16,\n",
    "    shuffle=False,\n",
    "    num_workers=2\n",
    ")\n",
    "CLASS_NAMES = dataset.classes\n",
    "print(f'Found {len(trainloader)} train and {len(valloader)} val batches')\n",
    "print(f'belonging to {len(CLASS_NAMES)} classes')"
   ]
  },
  {
   "cell_type": "markdown",
   "metadata": {},
   "source": [
    "### Show a few samples"
   ]
  },
  {
   "cell_type": "code",
   "execution_count": null,
   "metadata": {},
   "outputs": [],
   "source": [
    "dataiter = iter(trainloader)\n",
    "images, labels = next(dataiter)\n",
    "\n",
    "img_grid = torchvision.utils.make_grid(images)\n",
    "\n",
    "def matplotlib_imshow(img, one_channel=False):\n",
    "    if one_channel:\n",
    "        img = img.mean(dim=0)\n",
    "    img = img / 2 + 0.5     # unnormalize\n",
    "    npimg = img.numpy()\n",
    "    if one_channel:\n",
    "        plt.imshow(npimg)\n",
    "    else:\n",
    "        plt.imshow(np.transpose(npimg, (1, 2, 0)))\n",
    "\n",
    "matplotlib_imshow(img_grid, one_channel=False)\n"
   ]
  },
  {
   "cell_type": "markdown",
   "metadata": {},
   "source": [
    "### Define the model, loss function and optimizer"
   ]
  },
  {
   "cell_type": "code",
   "execution_count": null,
   "metadata": {},
   "outputs": [],
   "source": [
    "class OurMultilayerPerceptron(nn.Module):\n",
    "    def __init__(self):\n",
    "        super(OurMultilayerPerceptron, self).__init__()\n",
    "        self.fc1 = nn.Linear(3 * INPUT_RESOLUTION * INPUT_RESOLUTION, 120)\n",
    "        self.fc2 = nn.Linear(120, 120)\n",
    "        self.fc3 = nn.Linear(120, 84)\n",
    "        self.fc4 = nn.Linear(84, len(CLASS_NAMES))\n",
    "\n",
    "    def forward(self, x):\n",
    "        x = x.view(-1, 3 * INPUT_RESOLUTION * INPUT_RESOLUTION)\n",
    "        x = F.relu(self.fc1(x))\n",
    "        x = F.relu(self.fc2(x))\n",
    "        x = F.relu(self.fc3(x))\n",
    "        x = self.fc4(x)\n",
    "        return x\n",
    "\n",
    "class OurCNN(nn.Module):\n",
    "    def __init__(self):\n",
    "        super(OurCNN, self).__init__()\n",
    "        self.conv1 = nn.Conv2d(3, 18, 5)\n",
    "        self.pool = nn.MaxPool2d(2, 2)\n",
    "        self.conv2 = nn.Conv2d(18, 32, 3)\n",
    "        self.fc1 = nn.Linear(32 * (INPUT_RESOLUTION//4 - 2) * (INPUT_RESOLUTION//4 - 2), 120)\n",
    "        self.fc2 = nn.Linear(120, 84)\n",
    "        self.fc3 = nn.Linear(84, len(CLASS_NAMES))\n",
    "\n",
    "    def forward(self, x):\n",
    "        x = self.pool(F.relu(self.conv1(x)))\n",
    "        x = self.pool(F.relu(self.conv2(x)))\n",
    "        x = x.view(-1, 32 * (INPUT_RESOLUTION//4 - 2) * (INPUT_RESOLUTION//4 - 2))\n",
    "        x = F.relu(self.fc1(x))\n",
    "        x = F.relu(self.fc2(x))\n",
    "        x = self.fc3(x)\n",
    "        return x\n",
    "\n",
    "LEARNING_RATE = 0.03\n",
    "LR_DECAY = 0.95\n",
    "model = OurMultilayerPerceptron()\n",
    "criterion = nn.CrossEntropyLoss()\n",
    "optimizer = optim.SGD(model.parameters(), lr=LEARNING_RATE)\n",
    "scheduler = optim.lr_scheduler.ExponentialLR(optimizer, gamma=LR_DECAY)\n",
    "num_learnable_parameters = sum([\n",
    "    p.numel() for p in model.parameters() if p.requires_grad\n",
    "])\n",
    "print(f'{num_learnable_parameters} learnable parameters')"
   ]
  },
  {
   "cell_type": "markdown",
   "metadata": {},
   "source": [
    "### Use wandb to log training progress"
   ]
  },
  {
   "cell_type": "code",
   "execution_count": null,
   "metadata": {},
   "outputs": [],
   "source": [
    "import wandb\n",
    "wandb.login()\n",
    "wandb.init(\n",
    "    project=\"iml_lab1\",\n",
    "    config={\n",
    "        \"learning_rate\": LEARNING_RATE,\n",
    "        \"learning_rate_decay\": LR_DECAY,\n",
    "        \"batch_size\": trainloader.batch_size,\n",
    "        \"input_resolution\": INPUT_RESOLUTION,\n",
    "        \"num_parameters\": num_learnable_parameters,\n",
    "        \"architecture\": \"CNN\",\n",
    "        \"dataset\": \"EuroSAT\"\n",
    "    }\n",
    ")"
   ]
  },
  {
   "cell_type": "markdown",
   "metadata": {},
   "source": [
    "### Train. Save loss and accuracy for train and validation"
   ]
  },
  {
   "cell_type": "code",
   "execution_count": null,
   "metadata": {},
   "outputs": [],
   "source": [
    "model.to(device)\n",
    "PRINT_STEP = len(trainloader) // 5 - 1\n",
    "\n",
    "for epoch in range(0, 80):\n",
    "    print(f'Epoch {epoch}')\n",
    "    running_loss = 0.0\n",
    "    correct = 0\n",
    "    for i, data in enumerate(trainloader):\n",
    "        inputs, labels = data\n",
    "        inputs = inputs.to(device)\n",
    "        labels = labels.to(device)\n",
    "        optimizer.zero_grad()\n",
    "\n",
    "        outputs = model(inputs)\n",
    "        loss = criterion(outputs, labels)\n",
    "        loss.backward()\n",
    "        optimizer.step()\n",
    "        _, predictions = torch.max(outputs.data, 1)\n",
    "        correct += (predictions == labels).float().mean().item()\n",
    "\n",
    "        running_loss += loss.item()\n",
    "        if i % PRINT_STEP == PRINT_STEP-1:\n",
    "            accuracy = correct / PRINT_STEP\n",
    "            loss = running_loss / PRINT_STEP\n",
    "            step = epoch * len(trainloader) + i\n",
    "            wandb.log({\n",
    "                    \"train/accuracy\": accuracy,\n",
    "                    \"train/loss\": loss\n",
    "                },\n",
    "                step=step\n",
    "            )\n",
    "            running_loss = 0.0\n",
    "            correct = 0\n",
    "\n",
    "    model.eval()\n",
    "    val_loss = 0.0\n",
    "    val_correct = 0\n",
    "    with torch.no_grad():\n",
    "        for j, data in enumerate(valloader, 0):\n",
    "            inputs, labels = data\n",
    "            inputs = inputs.to(device)\n",
    "            labels = labels.to(device)\n",
    "            outputs = model(inputs)\n",
    "            loss = criterion(outputs, labels)\n",
    "            val_loss += loss.item()\n",
    "            _, predictions = torch.max(outputs.data, 1)\n",
    "            val_correct += (predictions == labels).float().mean().item()\n",
    "\n",
    "    accuracy = val_correct / len(valloader)\n",
    "    loss = val_loss / len(valloader)\n",
    "    wandb.log({\n",
    "            \"validation/accuracy\": accuracy,\n",
    "            \"validation/loss\": loss\n",
    "        },\n",
    "        step = (epoch + 1) * len(trainloader)\n",
    "    )\n",
    "    model.train()\n",
    "    scheduler.step()\n",
    "\n",
    "print('Finished Training')"
   ]
  },
  {
   "cell_type": "markdown",
   "metadata": {},
   "source": [
    "### Plot a confusion matrix"
   ]
  },
  {
   "cell_type": "code",
   "execution_count": 10,
   "metadata": {},
   "outputs": [],
   "source": [
    "model.eval()\n",
    "y_true = []\n",
    "y_predicted = []\n",
    "with torch.no_grad():\n",
    "    for j, data in enumerate(valloader, 0):\n",
    "        inputs, labels = data\n",
    "        y_true.extend(labels.numpy())\n",
    "        inputs = inputs.to(device)\n",
    "        labels = labels.to(device)\n",
    "        outputs = model(inputs)\n",
    "        _, predictions = torch.max(outputs.data, 1)\n",
    "        y_predicted.extend(predictions.cpu().numpy())\n",
    "model.train()\n",
    "\n",
    "\n",
    "confusion_matrix = wandb.plot.confusion_matrix(\n",
    "    probs=None,\n",
    "    y_true=y_true,\n",
    "    preds=y_predicted,\n",
    "    class_names=CLASS_NAMES\n",
    ")\n",
    "wandb.log({\n",
    "    \"conf_mat\" : confusion_matrix\n",
    "})\n"
   ]
  },
  {
   "cell_type": "markdown",
   "metadata": {},
   "source": [
    "### Save example images"
   ]
  },
  {
   "cell_type": "code",
   "execution_count": null,
   "metadata": {},
   "outputs": [],
   "source": [
    "table_data = []\n",
    "for class_name in CLASS_NAMES:\n",
    "    for i in range(1, 11):\n",
    "        filename = f'{class_name}_{i}.png'\n",
    "        filepath = f'data/eurosat/2750/{class_name}/{filename}'\n",
    "        table_data.append([filename, class_name, wandb.Image(filepath)])\n",
    "columns = [\"filename\", \"class\", \"image\"]\n",
    "test_table = wandb.Table(data=table_data, columns=columns)\n",
    "wandb.log('example_samples', test_table)"
   ]
  }
 ],
 "metadata": {
  "kernelspec": {
   "display_name": "iml",
   "language": "python",
   "name": "python3"
  },
  "language_info": {
   "codemirror_mode": {
    "name": "ipython",
    "version": 3
   },
   "file_extension": ".py",
   "mimetype": "text/x-python",
   "name": "python",
   "nbconvert_exporter": "python",
   "pygments_lexer": "ipython3",
   "version": "3.9.20"
  }
 },
 "nbformat": 4,
 "nbformat_minor": 2
}
